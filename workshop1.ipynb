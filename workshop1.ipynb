{
  "nbformat": 4,
  "nbformat_minor": 0,
  "metadata": {
    "colab": {
      "name": "workshop1.ipynb",
      "provenance": [],
      "collapsed_sections": [
        "VNPzK1HoRk7O"
      ]
    },
    "kernelspec": {
      "name": "python3",
      "display_name": "Python 3"
    },
    "language_info": {
      "name": "python"
    }
  },
  "cells": [
    {
      "cell_type": "markdown",
      "source": [
        "# 1. ALGORITMA GENETIKA\n",
        "\n",
        "1. Inisialisasi\n",
        "2. Seleksi\n",
        "3. Reproduksi\n",
        "4. Elitism(setelah mendapat hasil reproduksi, maka akan dieliminasi dan dicari mana anak yang terbaik)\n",
        "5. Output\n"
      ],
      "metadata": {
        "id": "_aprQJfoQ51o"
      }
    },
    {
      "cell_type": "markdown",
      "source": [
        "## Metode Pengambilan Seleksi\n",
        "\n",
        "1. Roulette wheel(tercepat)\n",
        "2. Tournament(sample ambil acak, lalu ambil yang terbaik(lebih optimal)\n",
        "3. Rank-based(terbaik, tp lama klo datanya banyak)"
      ],
      "metadata": {
        "id": "0nK4f0x0RPNj"
      }
    },
    {
      "cell_type": "markdown",
      "source": [
        "# Reproduksi\n",
        "\n",
        "dua operator utama dalam reproduksi:\n",
        "\n",
        "1. Crossover\n",
        "2. Mutasi"
      ],
      "metadata": {
        "id": "TVrlMyhnRdmm"
      }
    },
    {
      "cell_type": "markdown",
      "source": [
        "# MULAI WORKSHOP\n"
      ],
      "metadata": {
        "id": "VNPzK1HoRk7O"
      }
    },
    {
      "cell_type": "code",
      "source": [
        "#ALGORITMA GENETIK\n",
        "\n",
        "# contoh 1 membuat persamaan garis dan mencari nilai maksimumnya \n",
        "\n",
        "# diketahui persamaan garis y = 15x - x^2\n",
        "# X merupakan nilai dari [0, 0, 0, 0] sampai [1, 1, 1, 1]\n",
        "\n",
        "# 5 langkah AG: \n",
        "    # 1. inisialisasi populasi\n",
        "    # 2. seleksi\n",
        "    # 3. reproduksi\n",
        "    # 4. elitism\n",
        "    # 5. output\n",
        "\n",
        "#==================GAAAASSSSS============================\n",
        "\n",
        "# 1. INISIALISASI\n",
        "\n",
        "#rows = baris\n",
        "#cols =  kolom\n",
        "\n",
        "N = 3 \n",
        "rows, cols = (N, 4) # cols merupakan panjang bit\n",
        "\n",
        "induk = [[0 for i in range(cols)] for j in range(rows)]\n",
        "\n",
        "print(induk)\n"
      ],
      "metadata": {
        "colab": {
          "base_uri": "https://localhost:8080/"
        },
        "id": "l9QvD1s6Rqdu",
        "outputId": "5e8e67e7-7125-44fc-8e0c-b3fb2374d974"
      },
      "execution_count": 1,
      "outputs": [
        {
          "output_type": "stream",
          "name": "stdout",
          "text": [
            "[[0, 0, 0, 0], [0, 0, 0, 0], [0, 0, 0, 0]]\n"
          ]
        }
      ]
    },
    {
      "cell_type": "code",
      "source": [
        "# MENENTUKAN JUMLAH ANAK\n",
        "\n",
        "N_Anak = 6\n",
        "\n",
        "rows, cols = (N_Anak, 4)\n",
        "\n",
        "anak = [[0 for i in range(rows)] for j in range(rows)]\n",
        "\n",
        "print(anak)"
      ],
      "metadata": {
        "colab": {
          "base_uri": "https://localhost:8080/"
        },
        "id": "4M43hAKmSU8m",
        "outputId": "313c9a50-b6e9-4fa5-8640-a26ff7ad2b8c"
      },
      "execution_count": 3,
      "outputs": [
        {
          "output_type": "stream",
          "name": "stdout",
          "text": [
            "[[0, 0, 0, 0, 0, 0], [0, 0, 0, 0, 0, 0], [0, 0, 0, 0, 0, 0], [0, 0, 0, 0, 0, 0], [0, 0, 0, 0, 0, 0], [0, 0, 0, 0, 0, 0]]\n"
          ]
        }
      ]
    },
    {
      "cell_type": "code",
      "source": [
        "# MELAKUKAN INISIALISASI PARAMETER\n",
        "Pc = 0.7 #kemungkinan untuk melakukan crossover\n",
        "Pm = 0.3 #kemungkinan untuk melakukan mutasi\n",
        "\n",
        "import random\n",
        "\n",
        "for i in range(N):\n",
        "    a = random.randint(0, 15)\n",
        "    induk[i] = [int (x) for x in '{:04b}'.format(a)]\n",
        "    print(a, induk[i])"
      ],
      "metadata": {
        "colab": {
          "base_uri": "https://localhost:8080/"
        },
        "id": "tk8k9uUDSkBd",
        "outputId": "0b8d11cc-bb9d-4999-ddd6-9dcad13e0a5d"
      },
      "execution_count": 6,
      "outputs": [
        {
          "output_type": "stream",
          "name": "stdout",
          "text": [
            "2 [0, 0, 1, 0]\n",
            "11 [1, 0, 1, 1]\n",
            "0 [0, 0, 0, 0]\n"
          ]
        }
      ]
    },
    {
      "cell_type": "code",
      "source": [
        "# BUAT FUNCTION UNTUK CROSSOVER\n",
        "\n",
        "def crossover(ind1 = [], ind2 = []):\n",
        "    anak1 = [0, 0, 0, 0]\n",
        "    anak2 = [0, 0, 0, 0]\n",
        "    \n",
        "    anak1[0] = ind1[0]\n",
        "    anak1[1] = ind1[1]\n",
        "    anak1[2] = ind2[2]\n",
        "    anak1[3] = ind2[3]\n",
        "\n",
        "    anak2[0] = ind2[0]\n",
        "    anak2[1] = ind2[1]\n",
        "    anak2[2] = ind1[2]\n",
        "    anak2[3] = ind1[3]\n",
        "\n",
        "    return anak1, anak2"
      ],
      "metadata": {
        "id": "7KcyJRvUTCk4"
      },
      "execution_count": 7,
      "outputs": []
    },
    {
      "cell_type": "code",
      "source": [
        "# BUAT FUNCTION UNTUK MUTASI (FLIP BIT)\n",
        "\n",
        "def mutasi(ind = []):\n",
        "    ind[1] = 1 - ind[1]\n",
        "    return ind"
      ],
      "metadata": {
        "id": "QJ4vQlGiTIpT"
      },
      "execution_count": 8,
      "outputs": []
    },
    {
      "cell_type": "code",
      "source": [
        "# BUAT FUNCTION UNTUK MELAKUKAN hitungInt\n",
        "\n",
        "def hitungInt(ind = []):\n",
        "    a = ind[3] * 1\n",
        "    a = a + ind[2] * 2\n",
        "    a = a + ind[1] * 4\n",
        "    a = a + ind[0] * 8\n",
        "    return a    \n",
        "    y = 15*a - a**2\n",
        "    return y"
      ],
      "metadata": {
        "id": "nLo8AfyUTN45"
      },
      "execution_count": 9,
      "outputs": []
    },
    {
      "cell_type": "code",
      "source": [
        "#BUAT FUNCTION UNTUK MELAKUKAN HITUNG FITNESS\n",
        "\n",
        "def hitungFitness(ind = []):\n",
        "    a = hitungInt(ind)\n",
        "    \n",
        "    y = 15*a - a*a\n",
        "    return y"
      ],
      "metadata": {
        "id": "uWciHZhCTTz_"
      },
      "execution_count": 10,
      "outputs": []
    },
    {
      "cell_type": "code",
      "source": [
        "# 2. SELEKSI (TIDAK LAKUKAN SELEKSI TAPI DIAMBIL SEMUA KARENA INDUKNYA HANYA 3)\n",
        "\n",
        "# 3. REPRODUKSI + 4. ELITISM\n",
        "\n",
        "i = 1\n",
        "epochs = 50 # mencari turunan yang lebih baik sebnyak 50 turunan\n",
        "\n",
        "MaxFitness = [0 for i in range(epochs)]\n",
        "angkaFitness = [0 for i in range(epochs)]\n",
        "\n",
        "# menghitung nilai fitness untuk induknya\n",
        "for j in range(N):\n",
        "    if (hitungFitness(induk[j]) > MaxFitness[0]):\n",
        "        MaxFitness[0] = hitungFitness(induk[j])\n",
        "        angkaFitness[i] = j\n",
        "\n",
        "print(MaxFitness)"
      ],
      "metadata": {
        "colab": {
          "base_uri": "https://localhost:8080/"
        },
        "id": "5vQKMgdjTZHu",
        "outputId": "2af8da70-8c75-4c2f-96d4-50f712a1015a"
      },
      "execution_count": 11,
      "outputs": [
        {
          "output_type": "stream",
          "name": "stdout",
          "text": [
            "[44, 0, 0, 0, 0, 0, 0, 0, 0, 0, 0, 0, 0, 0, 0, 0, 0, 0, 0, 0, 0, 0, 0, 0, 0, 0, 0, 0, 0, 0, 0, 0, 0, 0, 0, 0, 0, 0, 0, 0, 0, 0, 0, 0, 0, 0, 0, 0, 0, 0]\n"
          ]
        }
      ]
    },
    {
      "cell_type": "code",
      "source": [
        "# MELAKUKAN PERULANGAN SAMPAI 'EPOCHS' KALI\n",
        "\n",
        "while i < epochs:\n",
        "    print(\"Iterasi: \", i)\n",
        "    #Reproduksi\n",
        "    a = random.random()\n",
        "    if (a < Pc):\n",
        "        #crossover\n",
        "        anak[0], anak[1] = crossover(induk[0], induk[1])\n",
        "        anak[2], anak[3] = crossover(induk[0], induk[2])\n",
        "        anak[4], anak[5] = crossover(induk[1], induk[2])\n",
        "    else:\n",
        "        #mutasi\n",
        "        for j in range(N):\n",
        "            induk [j] = mutasi(induk[j])\n",
        "\n",
        "\n",
        "# ------------------------------------------ end reproduksi\n",
        "\n",
        "    # 4. Elitism\n",
        "    # mencari nilai terburuk dari induk dan mencari nilai terbaik dari anak\n",
        "    minFitness = 10000\n",
        "    idx = 0 # anggap index ibu terburuk adalah 0\n",
        "    idxanak = 0 # anggap index anak terbaik adalah 0\n",
        "    for j in range(len(induk)):\n",
        "        print(minFitness, hitungFitness(induk[j]))\n",
        "        if (hitungFitness(induk[j]) < minFitness):\n",
        "            minFitness = hitungFitness(induk[j])\n",
        "            idx = j\n",
        "    #Cari maxFit (anak terbaik)\n",
        "    maxFit = 0\n",
        "    for j in range(len(anak)):\n",
        "        if (hitungFitness(anak[j]) > maxFit):\n",
        "            maxFit = hitungFitness(anak[j])\n",
        "            idxanak = j\n",
        "    \n",
        "    # membandingkan individu replacement\n",
        "    if (minFitness < maxFit):\n",
        "        induk[idx] = anak[idxanak]\n",
        "    \n",
        "    # dari populasi induk yang baru mana yang paling baik\n",
        "    for j in range(N):\n",
        "        if (hitungFitness(induk[j]) > MaxFitness[i]):\n",
        "            MaxFitness[i] = hitungFitness(induk[j])\n",
        "    i = i + 1\n",
        "\n",
        "    print(MaxFitness)\n",
        "\n",
        "\n",
        "# menampilkan grafik\n",
        "x = [i for i in range (epochs)]\n",
        "\n",
        "import matplotlib.pyplot as plt\n",
        "\n",
        "plt.plot(x, MaxFitness)"
      ],
      "metadata": {
        "colab": {
          "base_uri": "https://localhost:8080/",
          "height": 1000
        },
        "id": "kn_PkFNtTug5",
        "outputId": "eb37c1f6-a685-4d5d-9f47-e9efcd5974ee"
      },
      "execution_count": 14,
      "outputs": [
        {
          "output_type": "stream",
          "name": "stdout",
          "text": [
            "Iterasi:  1\n",
            "10000 26\n",
            "26 44\n",
            "26 0\n",
            "[44, 56, 0, 0, 0, 0, 0, 0, 0, 0, 0, 0, 0, 0, 0, 0, 0, 0, 0, 0, 0, 0, 0, 0, 0, 0, 0, 0, 0, 0, 0, 0, 0, 0, 0, 0, 0, 0, 0, 0, 0, 0, 0, 0, 0, 0, 0, 0, 0, 0]\n",
            "Iterasi:  2\n",
            "10000 54\n",
            "54 0\n",
            "0 36\n",
            "[44, 56, 54, 0, 0, 0, 0, 0, 0, 0, 0, 0, 0, 0, 0, 0, 0, 0, 0, 0, 0, 0, 0, 0, 0, 0, 0, 0, 0, 0, 0, 0, 0, 0, 0, 0, 0, 0, 0, 0, 0, 0, 0, 0, 0, 0, 0, 0, 0, 0]\n",
            "Iterasi:  3\n",
            "10000 54\n",
            "54 50\n",
            "50 36\n",
            "[44, 56, 54, 56, 0, 0, 0, 0, 0, 0, 0, 0, 0, 0, 0, 0, 0, 0, 0, 0, 0, 0, 0, 0, 0, 0, 0, 0, 0, 0, 0, 0, 0, 0, 0, 0, 0, 0, 0, 0, 0, 0, 0, 0, 0, 0, 0, 0, 0, 0]\n",
            "Iterasi:  4\n",
            "10000 26\n",
            "26 14\n",
            "14 36\n",
            "[44, 56, 54, 56, 54, 0, 0, 0, 0, 0, 0, 0, 0, 0, 0, 0, 0, 0, 0, 0, 0, 0, 0, 0, 0, 0, 0, 0, 0, 0, 0, 0, 0, 0, 0, 0, 0, 0, 0, 0, 0, 0, 0, 0, 0, 0, 0, 0, 0, 0]\n",
            "Iterasi:  5\n",
            "10000 54\n",
            "54 26\n",
            "26 56\n",
            "[44, 56, 54, 56, 54, 56, 0, 0, 0, 0, 0, 0, 0, 0, 0, 0, 0, 0, 0, 0, 0, 0, 0, 0, 0, 0, 0, 0, 0, 0, 0, 0, 0, 0, 0, 0, 0, 0, 0, 0, 0, 0, 0, 0, 0, 0, 0, 0, 0, 0]\n",
            "Iterasi:  6\n",
            "10000 54\n",
            "54 56\n",
            "54 56\n",
            "[44, 56, 54, 56, 54, 56, 56, 0, 0, 0, 0, 0, 0, 0, 0, 0, 0, 0, 0, 0, 0, 0, 0, 0, 0, 0, 0, 0, 0, 0, 0, 0, 0, 0, 0, 0, 0, 0, 0, 0, 0, 0, 0, 0, 0, 0, 0, 0, 0, 0]\n",
            "Iterasi:  7\n",
            "10000 56\n",
            "56 56\n",
            "56 56\n",
            "[44, 56, 54, 56, 54, 56, 56, 56, 0, 0, 0, 0, 0, 0, 0, 0, 0, 0, 0, 0, 0, 0, 0, 0, 0, 0, 0, 0, 0, 0, 0, 0, 0, 0, 0, 0, 0, 0, 0, 0, 0, 0, 0, 0, 0, 0, 0, 0, 0, 0]\n",
            "Iterasi:  8\n",
            "10000 56\n",
            "56 56\n",
            "56 56\n",
            "[44, 56, 54, 56, 54, 56, 56, 56, 56, 0, 0, 0, 0, 0, 0, 0, 0, 0, 0, 0, 0, 0, 0, 0, 0, 0, 0, 0, 0, 0, 0, 0, 0, 0, 0, 0, 0, 0, 0, 0, 0, 0, 0, 0, 0, 0, 0, 0, 0, 0]\n",
            "Iterasi:  9\n",
            "10000 36\n",
            "36 56\n",
            "36 56\n",
            "[44, 56, 54, 56, 54, 56, 56, 56, 56, 56, 0, 0, 0, 0, 0, 0, 0, 0, 0, 0, 0, 0, 0, 0, 0, 0, 0, 0, 0, 0, 0, 0, 0, 0, 0, 0, 0, 0, 0, 0, 0, 0, 0, 0, 0, 0, 0, 0, 0, 0]\n",
            "Iterasi:  10\n",
            "10000 56\n",
            "56 56\n",
            "56 56\n",
            "[44, 56, 54, 56, 54, 56, 56, 56, 56, 56, 56, 0, 0, 0, 0, 0, 0, 0, 0, 0, 0, 0, 0, 0, 0, 0, 0, 0, 0, 0, 0, 0, 0, 0, 0, 0, 0, 0, 0, 0, 0, 0, 0, 0, 0, 0, 0, 0, 0, 0]\n",
            "Iterasi:  11\n",
            "10000 56\n",
            "56 56\n",
            "56 56\n",
            "[44, 56, 54, 56, 54, 56, 56, 56, 56, 56, 56, 56, 0, 0, 0, 0, 0, 0, 0, 0, 0, 0, 0, 0, 0, 0, 0, 0, 0, 0, 0, 0, 0, 0, 0, 0, 0, 0, 0, 0, 0, 0, 0, 0, 0, 0, 0, 0, 0, 0]\n",
            "Iterasi:  12\n",
            "10000 56\n",
            "56 56\n",
            "56 56\n",
            "[44, 56, 54, 56, 54, 56, 56, 56, 56, 56, 56, 56, 56, 0, 0, 0, 0, 0, 0, 0, 0, 0, 0, 0, 0, 0, 0, 0, 0, 0, 0, 0, 0, 0, 0, 0, 0, 0, 0, 0, 0, 0, 0, 0, 0, 0, 0, 0, 0, 0]\n",
            "Iterasi:  13\n",
            "10000 56\n",
            "56 56\n",
            "56 56\n",
            "[44, 56, 54, 56, 54, 56, 56, 56, 56, 56, 56, 56, 56, 56, 0, 0, 0, 0, 0, 0, 0, 0, 0, 0, 0, 0, 0, 0, 0, 0, 0, 0, 0, 0, 0, 0, 0, 0, 0, 0, 0, 0, 0, 0, 0, 0, 0, 0, 0, 0]\n",
            "Iterasi:  14\n",
            "10000 56\n",
            "56 56\n",
            "56 56\n",
            "[44, 56, 54, 56, 54, 56, 56, 56, 56, 56, 56, 56, 56, 56, 56, 0, 0, 0, 0, 0, 0, 0, 0, 0, 0, 0, 0, 0, 0, 0, 0, 0, 0, 0, 0, 0, 0, 0, 0, 0, 0, 0, 0, 0, 0, 0, 0, 0, 0, 0]\n",
            "Iterasi:  15\n",
            "10000 36\n",
            "36 56\n",
            "36 56\n",
            "[44, 56, 54, 56, 54, 56, 56, 56, 56, 56, 56, 56, 56, 56, 56, 56, 0, 0, 0, 0, 0, 0, 0, 0, 0, 0, 0, 0, 0, 0, 0, 0, 0, 0, 0, 0, 0, 0, 0, 0, 0, 0, 0, 0, 0, 0, 0, 0, 0, 0]\n",
            "Iterasi:  16\n",
            "10000 36\n",
            "36 56\n",
            "36 56\n",
            "[44, 56, 54, 56, 54, 56, 56, 56, 56, 56, 56, 56, 56, 56, 56, 56, 56, 0, 0, 0, 0, 0, 0, 0, 0, 0, 0, 0, 0, 0, 0, 0, 0, 0, 0, 0, 0, 0, 0, 0, 0, 0, 0, 0, 0, 0, 0, 0, 0, 0]\n",
            "Iterasi:  17\n",
            "10000 56\n",
            "56 56\n",
            "56 56\n",
            "[44, 56, 54, 56, 54, 56, 56, 56, 56, 56, 56, 56, 56, 56, 56, 56, 56, 56, 0, 0, 0, 0, 0, 0, 0, 0, 0, 0, 0, 0, 0, 0, 0, 0, 0, 0, 0, 0, 0, 0, 0, 0, 0, 0, 0, 0, 0, 0, 0, 0]\n",
            "Iterasi:  18\n",
            "10000 56\n",
            "56 56\n",
            "56 56\n",
            "[44, 56, 54, 56, 54, 56, 56, 56, 56, 56, 56, 56, 56, 56, 56, 56, 56, 56, 56, 0, 0, 0, 0, 0, 0, 0, 0, 0, 0, 0, 0, 0, 0, 0, 0, 0, 0, 0, 0, 0, 0, 0, 0, 0, 0, 0, 0, 0, 0, 0]\n",
            "Iterasi:  19\n",
            "10000 36\n",
            "36 56\n",
            "36 56\n",
            "[44, 56, 54, 56, 54, 56, 56, 56, 56, 56, 56, 56, 56, 56, 56, 56, 56, 56, 56, 56, 0, 0, 0, 0, 0, 0, 0, 0, 0, 0, 0, 0, 0, 0, 0, 0, 0, 0, 0, 0, 0, 0, 0, 0, 0, 0, 0, 0, 0, 0]\n",
            "Iterasi:  20\n",
            "10000 56\n",
            "56 56\n",
            "56 56\n",
            "[44, 56, 54, 56, 54, 56, 56, 56, 56, 56, 56, 56, 56, 56, 56, 56, 56, 56, 56, 56, 56, 0, 0, 0, 0, 0, 0, 0, 0, 0, 0, 0, 0, 0, 0, 0, 0, 0, 0, 0, 0, 0, 0, 0, 0, 0, 0, 0, 0, 0]\n",
            "Iterasi:  21\n",
            "10000 56\n",
            "56 56\n",
            "56 56\n",
            "[44, 56, 54, 56, 54, 56, 56, 56, 56, 56, 56, 56, 56, 56, 56, 56, 56, 56, 56, 56, 56, 56, 0, 0, 0, 0, 0, 0, 0, 0, 0, 0, 0, 0, 0, 0, 0, 0, 0, 0, 0, 0, 0, 0, 0, 0, 0, 0, 0, 0]\n",
            "Iterasi:  22\n",
            "10000 36\n",
            "36 56\n",
            "36 56\n",
            "[44, 56, 54, 56, 54, 56, 56, 56, 56, 56, 56, 56, 56, 56, 56, 56, 56, 56, 56, 56, 56, 56, 56, 0, 0, 0, 0, 0, 0, 0, 0, 0, 0, 0, 0, 0, 0, 0, 0, 0, 0, 0, 0, 0, 0, 0, 0, 0, 0, 0]\n",
            "Iterasi:  23\n",
            "10000 56\n",
            "56 56\n",
            "56 56\n",
            "[44, 56, 54, 56, 54, 56, 56, 56, 56, 56, 56, 56, 56, 56, 56, 56, 56, 56, 56, 56, 56, 56, 56, 56, 0, 0, 0, 0, 0, 0, 0, 0, 0, 0, 0, 0, 0, 0, 0, 0, 0, 0, 0, 0, 0, 0, 0, 0, 0, 0]\n",
            "Iterasi:  24\n",
            "10000 56\n",
            "56 56\n",
            "56 56\n",
            "[44, 56, 54, 56, 54, 56, 56, 56, 56, 56, 56, 56, 56, 56, 56, 56, 56, 56, 56, 56, 56, 56, 56, 56, 56, 0, 0, 0, 0, 0, 0, 0, 0, 0, 0, 0, 0, 0, 0, 0, 0, 0, 0, 0, 0, 0, 0, 0, 0, 0]\n",
            "Iterasi:  25\n",
            "10000 36\n",
            "36 56\n",
            "36 56\n",
            "[44, 56, 54, 56, 54, 56, 56, 56, 56, 56, 56, 56, 56, 56, 56, 56, 56, 56, 56, 56, 56, 56, 56, 56, 56, 56, 0, 0, 0, 0, 0, 0, 0, 0, 0, 0, 0, 0, 0, 0, 0, 0, 0, 0, 0, 0, 0, 0, 0, 0]\n",
            "Iterasi:  26\n",
            "10000 36\n",
            "36 56\n",
            "36 56\n",
            "[44, 56, 54, 56, 54, 56, 56, 56, 56, 56, 56, 56, 56, 56, 56, 56, 56, 56, 56, 56, 56, 56, 56, 56, 56, 56, 56, 0, 0, 0, 0, 0, 0, 0, 0, 0, 0, 0, 0, 0, 0, 0, 0, 0, 0, 0, 0, 0, 0, 0]\n",
            "Iterasi:  27\n",
            "10000 36\n",
            "36 56\n",
            "36 56\n",
            "[44, 56, 54, 56, 54, 56, 56, 56, 56, 56, 56, 56, 56, 56, 56, 56, 56, 56, 56, 56, 56, 56, 56, 56, 56, 56, 56, 56, 0, 0, 0, 0, 0, 0, 0, 0, 0, 0, 0, 0, 0, 0, 0, 0, 0, 0, 0, 0, 0, 0]\n",
            "Iterasi:  28\n",
            "10000 56\n",
            "56 56\n",
            "56 56\n",
            "[44, 56, 54, 56, 54, 56, 56, 56, 56, 56, 56, 56, 56, 56, 56, 56, 56, 56, 56, 56, 56, 56, 56, 56, 56, 56, 56, 56, 56, 0, 0, 0, 0, 0, 0, 0, 0, 0, 0, 0, 0, 0, 0, 0, 0, 0, 0, 0, 0, 0]\n",
            "Iterasi:  29\n",
            "10000 56\n",
            "56 56\n",
            "56 56\n",
            "[44, 56, 54, 56, 54, 56, 56, 56, 56, 56, 56, 56, 56, 56, 56, 56, 56, 56, 56, 56, 56, 56, 56, 56, 56, 56, 56, 56, 56, 56, 0, 0, 0, 0, 0, 0, 0, 0, 0, 0, 0, 0, 0, 0, 0, 0, 0, 0, 0, 0]\n",
            "Iterasi:  30\n",
            "10000 56\n",
            "56 56\n",
            "56 56\n",
            "[44, 56, 54, 56, 54, 56, 56, 56, 56, 56, 56, 56, 56, 56, 56, 56, 56, 56, 56, 56, 56, 56, 56, 56, 56, 56, 56, 56, 56, 56, 56, 0, 0, 0, 0, 0, 0, 0, 0, 0, 0, 0, 0, 0, 0, 0, 0, 0, 0, 0]\n",
            "Iterasi:  31\n",
            "10000 56\n",
            "56 56\n",
            "56 56\n",
            "[44, 56, 54, 56, 54, 56, 56, 56, 56, 56, 56, 56, 56, 56, 56, 56, 56, 56, 56, 56, 56, 56, 56, 56, 56, 56, 56, 56, 56, 56, 56, 56, 0, 0, 0, 0, 0, 0, 0, 0, 0, 0, 0, 0, 0, 0, 0, 0, 0, 0]\n",
            "Iterasi:  32\n",
            "10000 56\n",
            "56 56\n",
            "56 56\n",
            "[44, 56, 54, 56, 54, 56, 56, 56, 56, 56, 56, 56, 56, 56, 56, 56, 56, 56, 56, 56, 56, 56, 56, 56, 56, 56, 56, 56, 56, 56, 56, 56, 56, 0, 0, 0, 0, 0, 0, 0, 0, 0, 0, 0, 0, 0, 0, 0, 0, 0]\n",
            "Iterasi:  33\n",
            "10000 56\n",
            "56 56\n",
            "56 56\n",
            "[44, 56, 54, 56, 54, 56, 56, 56, 56, 56, 56, 56, 56, 56, 56, 56, 56, 56, 56, 56, 56, 56, 56, 56, 56, 56, 56, 56, 56, 56, 56, 56, 56, 56, 0, 0, 0, 0, 0, 0, 0, 0, 0, 0, 0, 0, 0, 0, 0, 0]\n",
            "Iterasi:  34\n",
            "10000 56\n",
            "56 56\n",
            "56 56\n",
            "[44, 56, 54, 56, 54, 56, 56, 56, 56, 56, 56, 56, 56, 56, 56, 56, 56, 56, 56, 56, 56, 56, 56, 56, 56, 56, 56, 56, 56, 56, 56, 56, 56, 56, 56, 0, 0, 0, 0, 0, 0, 0, 0, 0, 0, 0, 0, 0, 0, 0]\n",
            "Iterasi:  35\n",
            "10000 56\n",
            "56 56\n",
            "56 56\n",
            "[44, 56, 54, 56, 54, 56, 56, 56, 56, 56, 56, 56, 56, 56, 56, 56, 56, 56, 56, 56, 56, 56, 56, 56, 56, 56, 56, 56, 56, 56, 56, 56, 56, 56, 56, 56, 0, 0, 0, 0, 0, 0, 0, 0, 0, 0, 0, 0, 0, 0]\n",
            "Iterasi:  36\n",
            "10000 36\n",
            "36 56\n",
            "36 56\n",
            "[44, 56, 54, 56, 54, 56, 56, 56, 56, 56, 56, 56, 56, 56, 56, 56, 56, 56, 56, 56, 56, 56, 56, 56, 56, 56, 56, 56, 56, 56, 56, 56, 56, 56, 56, 56, 56, 0, 0, 0, 0, 0, 0, 0, 0, 0, 0, 0, 0, 0]\n",
            "Iterasi:  37\n",
            "10000 56\n",
            "56 56\n",
            "56 56\n",
            "[44, 56, 54, 56, 54, 56, 56, 56, 56, 56, 56, 56, 56, 56, 56, 56, 56, 56, 56, 56, 56, 56, 56, 56, 56, 56, 56, 56, 56, 56, 56, 56, 56, 56, 56, 56, 56, 56, 0, 0, 0, 0, 0, 0, 0, 0, 0, 0, 0, 0]\n",
            "Iterasi:  38\n",
            "10000 56\n",
            "56 56\n",
            "56 56\n",
            "[44, 56, 54, 56, 54, 56, 56, 56, 56, 56, 56, 56, 56, 56, 56, 56, 56, 56, 56, 56, 56, 56, 56, 56, 56, 56, 56, 56, 56, 56, 56, 56, 56, 56, 56, 56, 56, 56, 56, 0, 0, 0, 0, 0, 0, 0, 0, 0, 0, 0]\n",
            "Iterasi:  39\n",
            "10000 36\n",
            "36 56\n",
            "36 56\n",
            "[44, 56, 54, 56, 54, 56, 56, 56, 56, 56, 56, 56, 56, 56, 56, 56, 56, 56, 56, 56, 56, 56, 56, 56, 56, 56, 56, 56, 56, 56, 56, 56, 56, 56, 56, 56, 56, 56, 56, 56, 0, 0, 0, 0, 0, 0, 0, 0, 0, 0]\n",
            "Iterasi:  40\n",
            "10000 56\n",
            "56 56\n",
            "56 56\n",
            "[44, 56, 54, 56, 54, 56, 56, 56, 56, 56, 56, 56, 56, 56, 56, 56, 56, 56, 56, 56, 56, 56, 56, 56, 56, 56, 56, 56, 56, 56, 56, 56, 56, 56, 56, 56, 56, 56, 56, 56, 56, 0, 0, 0, 0, 0, 0, 0, 0, 0]\n",
            "Iterasi:  41\n",
            "10000 56\n",
            "56 56\n",
            "56 56\n",
            "[44, 56, 54, 56, 54, 56, 56, 56, 56, 56, 56, 56, 56, 56, 56, 56, 56, 56, 56, 56, 56, 56, 56, 56, 56, 56, 56, 56, 56, 56, 56, 56, 56, 56, 56, 56, 56, 56, 56, 56, 56, 56, 0, 0, 0, 0, 0, 0, 0, 0]\n",
            "Iterasi:  42\n",
            "10000 36\n",
            "36 56\n",
            "36 56\n",
            "[44, 56, 54, 56, 54, 56, 56, 56, 56, 56, 56, 56, 56, 56, 56, 56, 56, 56, 56, 56, 56, 56, 56, 56, 56, 56, 56, 56, 56, 56, 56, 56, 56, 56, 56, 56, 56, 56, 56, 56, 56, 56, 56, 0, 0, 0, 0, 0, 0, 0]\n",
            "Iterasi:  43\n",
            "10000 56\n",
            "56 56\n",
            "56 56\n",
            "[44, 56, 54, 56, 54, 56, 56, 56, 56, 56, 56, 56, 56, 56, 56, 56, 56, 56, 56, 56, 56, 56, 56, 56, 56, 56, 56, 56, 56, 56, 56, 56, 56, 56, 56, 56, 56, 56, 56, 56, 56, 56, 56, 56, 0, 0, 0, 0, 0, 0]\n",
            "Iterasi:  44\n",
            "10000 56\n",
            "56 56\n",
            "56 56\n",
            "[44, 56, 54, 56, 54, 56, 56, 56, 56, 56, 56, 56, 56, 56, 56, 56, 56, 56, 56, 56, 56, 56, 56, 56, 56, 56, 56, 56, 56, 56, 56, 56, 56, 56, 56, 56, 56, 56, 56, 56, 56, 56, 56, 56, 56, 0, 0, 0, 0, 0]\n",
            "Iterasi:  45\n",
            "10000 56\n",
            "56 56\n",
            "56 56\n",
            "[44, 56, 54, 56, 54, 56, 56, 56, 56, 56, 56, 56, 56, 56, 56, 56, 56, 56, 56, 56, 56, 56, 56, 56, 56, 56, 56, 56, 56, 56, 56, 56, 56, 56, 56, 56, 56, 56, 56, 56, 56, 56, 56, 56, 56, 56, 0, 0, 0, 0]\n",
            "Iterasi:  46\n",
            "10000 56\n",
            "56 56\n",
            "56 56\n",
            "[44, 56, 54, 56, 54, 56, 56, 56, 56, 56, 56, 56, 56, 56, 56, 56, 56, 56, 56, 56, 56, 56, 56, 56, 56, 56, 56, 56, 56, 56, 56, 56, 56, 56, 56, 56, 56, 56, 56, 56, 56, 56, 56, 56, 56, 56, 56, 0, 0, 0]\n",
            "Iterasi:  47\n",
            "10000 56\n",
            "56 56\n",
            "56 56\n",
            "[44, 56, 54, 56, 54, 56, 56, 56, 56, 56, 56, 56, 56, 56, 56, 56, 56, 56, 56, 56, 56, 56, 56, 56, 56, 56, 56, 56, 56, 56, 56, 56, 56, 56, 56, 56, 56, 56, 56, 56, 56, 56, 56, 56, 56, 56, 56, 56, 0, 0]\n",
            "Iterasi:  48\n",
            "10000 56\n",
            "56 56\n",
            "56 56\n",
            "[44, 56, 54, 56, 54, 56, 56, 56, 56, 56, 56, 56, 56, 56, 56, 56, 56, 56, 56, 56, 56, 56, 56, 56, 56, 56, 56, 56, 56, 56, 56, 56, 56, 56, 56, 56, 56, 56, 56, 56, 56, 56, 56, 56, 56, 56, 56, 56, 56, 0]\n",
            "Iterasi:  49\n",
            "10000 56\n",
            "56 56\n",
            "56 56\n",
            "[44, 56, 54, 56, 54, 56, 56, 56, 56, 56, 56, 56, 56, 56, 56, 56, 56, 56, 56, 56, 56, 56, 56, 56, 56, 56, 56, 56, 56, 56, 56, 56, 56, 56, 56, 56, 56, 56, 56, 56, 56, 56, 56, 56, 56, 56, 56, 56, 56, 56]\n"
          ]
        },
        {
          "output_type": "execute_result",
          "data": {
            "text/plain": [
              "[<matplotlib.lines.Line2D at 0x7f2d0f8c57d0>]"
            ]
          },
          "metadata": {},
          "execution_count": 14
        },
        {
          "output_type": "display_data",
          "data": {
            "text/plain": [
              "<Figure size 432x288 with 1 Axes>"
            ],
            "image/png": "[encoded data removed]"
          },
          "metadata": {
            "needs_background": "light"
          }
        }
      ]
    }
  ]
}