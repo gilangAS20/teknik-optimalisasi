{
  "nbformat": 4,
  "nbformat_minor": 0,
  "metadata": {
    "colab": {
      "name": "workshop2_DE.ipynb",
      "provenance": []
    },
    "kernelspec": {
      "name": "python3",
      "display_name": "Python 3"
    },
    "language_info": {
      "name": "python"
    }
  },
  "cells": [
    {
      "cell_type": "code",
      "execution_count": 73,
      "metadata": {
        "id": "09uGsEnf01Sv"
      },
      "outputs": [],
      "source": [
        "import random\n"
      ]
    },
    {
      "cell_type": "markdown",
      "source": [
        "#INISIALISASI PARAMETER"
      ],
      "metadata": {
        "id": "TRuCtS1N4a_Y"
      }
    },
    {
      "cell_type": "code",
      "source": [
        "#selesaikan y = 15 - x^2\n",
        "\n",
        "N = 3 #populasi\n",
        "CR = 0.7 #crossover, makin besar nilai maka kemungkinan crossover lebih tinggi\n",
        "F = 0.5\n",
        "\n",
        "#DE/rand/i/uniform -> vektor barsis acak, 1 vektor difference, CR > uniform\n",
        "induk = [0 for i in range(N)]\n",
        "print(induk)"
      ],
      "metadata": {
        "colab": {
          "base_uri": "https://localhost:8080/"
        },
        "id": "YyO9anRA3PEE",
        "outputId": "ee8ff737-36d9-40ea-fde4-59b7728de505"
      },
      "execution_count": 74,
      "outputs": [
        {
          "output_type": "stream",
          "name": "stdout",
          "text": [
            "[0, 0, 0]\n"
          ]
        }
      ]
    },
    {
      "cell_type": "markdown",
      "source": [
        "# 1. Membangkitkan Populasi Awal"
      ],
      "metadata": {
        "id": "hhdozmzt4fh5"
      }
    },
    {
      "cell_type": "code",
      "source": [
        "BU = 15 #batas atas --> boundary up\n",
        "BL = 0 #batas bawah --> boundary low\n",
        "\n",
        "for i in range(N):\n",
        "    induk[i] = random.random() * ((BU-BL)+BL)\n",
        "print(induk)"
      ],
      "metadata": {
        "colab": {
          "base_uri": "https://localhost:8080/"
        },
        "id": "GFdWmBS34f6o",
        "outputId": "d7343039-ca61-4ca0-ff9d-af8f057edb57"
      },
      "execution_count": 75,
      "outputs": [
        {
          "output_type": "stream",
          "name": "stdout",
          "text": [
            "[1.2088413034450463, 8.886605181812351, 4.45193241837622]\n"
          ]
        }
      ]
    },
    {
      "cell_type": "markdown",
      "source": [
        "#2. Mendefinisikan variabel epochs dan counter(ctr)"
      ],
      "metadata": {
        "id": "5PRNWJIF6sPx"
      }
    },
    {
      "cell_type": "code",
      "source": [
        "ctr = 1 #counter\n",
        "epochs = 50\n",
        "MaxFitness = [0 for i in range(epochs)]\n",
        "print(MaxFitness)"
      ],
      "metadata": {
        "colab": {
          "base_uri": "https://localhost:8080/"
        },
        "id": "vv-V3uVd6t_0",
        "outputId": "33bea617-0662-4b93-eafb-80f566b9fbb5"
      },
      "execution_count": 76,
      "outputs": [
        {
          "output_type": "stream",
          "name": "stdout",
          "text": [
            "[0, 0, 0, 0, 0, 0, 0, 0, 0, 0, 0, 0, 0, 0, 0, 0, 0, 0, 0, 0, 0, 0, 0, 0, 0, 0, 0, 0, 0, 0, 0, 0, 0, 0, 0, 0, 0, 0, 0, 0, 0, 0, 0, 0, 0, 0, 0, 0, 0, 0]\n"
          ]
        }
      ]
    },
    {
      "cell_type": "markdown",
      "source": [
        "## Hitung fitness untuk induk"
      ],
      "metadata": {
        "id": "6Bwg8pCK7oB8"
      }
    },
    {
      "cell_type": "code",
      "source": [
        "def hitungFitness(x):\n",
        "    y = 15*x - x*x\n",
        "    return y"
      ],
      "metadata": {
        "id": "uUO6MtGq78ty"
      },
      "execution_count": 77,
      "outputs": []
    },
    {
      "cell_type": "code",
      "source": [
        "for j in range(N):\n",
        "    if(hitungFitness(induk[j]) > MaxFitness[0]):\n",
        "        MaxFitness[0] = hitungFitness(induk[j])\n",
        "\n",
        "print(MaxFitness)"
      ],
      "metadata": {
        "colab": {
          "base_uri": "https://localhost:8080/"
        },
        "id": "rcIHxWJi7WPi",
        "outputId": "88e8109d-11ef-48bd-8aeb-101c892001bc"
      },
      "execution_count": 78,
      "outputs": [
        {
          "output_type": "stream",
          "name": "stdout",
          "text": [
            "[54.327326069771146, 0, 0, 0, 0, 0, 0, 0, 0, 0, 0, 0, 0, 0, 0, 0, 0, 0, 0, 0, 0, 0, 0, 0, 0, 0, 0, 0, 0, 0, 0, 0, 0, 0, 0, 0, 0, 0, 0, 0, 0, 0, 0, 0, 0, 0, 0, 0, 0, 0]\n"
          ]
        }
      ]
    },
    {
      "cell_type": "markdown",
      "source": [
        "#3. While sebelum kriteria berhenti\n",
        "\n",
        "seleksi --> reproduksi --> elitism"
      ],
      "metadata": {
        "id": "cJ_YzCNl7SiR"
      }
    },
    {
      "cell_type": "code",
      "source": [
        "D = 1\n",
        "\n",
        "while ctr < epochs:\n",
        "    for i in range(N):\n",
        "        jrand = int(random.random()*D)\n",
        "\n",
        "        for j in range(D):\n",
        "\n",
        "            #reproduksi\n",
        "            a = random.random()\n",
        "\n",
        "            #cek crossover\n",
        "            if (a<=CR or j==jrand):\n",
        "                #mutasi\n",
        "                #melakukan mutasi, anak diisi fector difference\n",
        "                #mengambil vektor basis secara acak(seleksi)\n",
        "                xr = induk[random.randint(0, (N-1))]\n",
        "                anak = xr + F*induk[i]\n",
        "            else:\n",
        "                #tidak mutasi\n",
        "                anak = induk[i]\n",
        "\n",
        "        #ELITISM\n",
        "        if(hitungFitness(anak) > hitungFitness(induk[i])):\n",
        "            induk[i] = anak\n",
        "    print(induk)\n",
        "\n",
        "    #cari fitness\n",
        "    for i in range(N):\n",
        "        if(hitungFitness(induk[i]) > MaxFitness[ctr]):\n",
        "            MaxFitness[ctr] = hitungFitness(induk[i])\n",
        "            print(MaxFitness[ctr])\n",
        "    ctr = ctr+1"
      ],
      "metadata": {
        "colab": {
          "base_uri": "https://localhost:8080/"
        },
        "id": "WHZWAjFd8oTp",
        "outputId": "1824a9fb-7e9f-4c8a-ee73-0e2e76f89601"
      },
      "execution_count": 79,
      "outputs": [
        {
          "output_type": "stream",
          "name": "stdout",
          "text": [
            "[9.491025833534874, 8.886605181812351, 4.45193241837622]\n",
            "52.285816130196764\n",
            "54.327326069771146\n",
            "[9.491025833534874, 8.886605181812351, 4.45193241837622]\n",
            "52.285816130196764\n",
            "54.327326069771146\n",
            "[9.491025833534874, 8.886605181812351, 6.67789862756433]\n",
            "52.285816130196764\n",
            "54.327326069771146\n",
            "55.57414933343939\n",
            "[9.491025833534874, 8.886605181812351, 6.67789862756433]\n",
            "52.285816130196764\n",
            "54.327326069771146\n",
            "55.57414933343939\n",
            "[9.491025833534874, 8.886605181812351, 6.67789862756433]\n",
            "52.285816130196764\n",
            "54.327326069771146\n",
            "55.57414933343939\n",
            "[9.491025833534874, 8.886605181812351, 6.67789862756433]\n",
            "52.285816130196764\n",
            "54.327326069771146\n",
            "55.57414933343939\n",
            "[9.491025833534874, 8.886605181812351, 6.67789862756433]\n",
            "52.285816130196764\n",
            "54.327326069771146\n",
            "55.57414933343939\n",
            "[9.491025833534874, 8.886605181812351, 6.67789862756433]\n",
            "52.285816130196764\n",
            "54.327326069771146\n",
            "55.57414933343939\n",
            "[9.491025833534874, 8.886605181812351, 6.67789862756433]\n",
            "52.285816130196764\n",
            "54.327326069771146\n",
            "55.57414933343939\n",
            "[9.491025833534874, 8.886605181812351, 6.67789862756433]\n",
            "52.285816130196764\n",
            "54.327326069771146\n",
            "55.57414933343939\n",
            "[9.491025833534874, 8.886605181812351, 6.67789862756433]\n",
            "52.285816130196764\n",
            "54.327326069771146\n",
            "55.57414933343939\n",
            "[9.491025833534874, 8.886605181812351, 6.67789862756433]\n",
            "52.285816130196764\n",
            "54.327326069771146\n",
            "55.57414933343939\n",
            "[9.491025833534874, 8.886605181812351, 6.67789862756433]\n",
            "52.285816130196764\n",
            "54.327326069771146\n",
            "55.57414933343939\n",
            "[9.491025833534874, 8.886605181812351, 6.67789862756433]\n",
            "52.285816130196764\n",
            "54.327326069771146\n",
            "55.57414933343939\n",
            "[9.491025833534874, 8.886605181812351, 6.67789862756433]\n",
            "52.285816130196764\n",
            "54.327326069771146\n",
            "55.57414933343939\n",
            "[9.491025833534874, 8.886605181812351, 6.67789862756433]\n",
            "52.285816130196764\n",
            "54.327326069771146\n",
            "55.57414933343939\n",
            "[9.491025833534874, 8.886605181812351, 6.67789862756433]\n",
            "52.285816130196764\n",
            "54.327326069771146\n",
            "55.57414933343939\n",
            "[9.491025833534874, 8.886605181812351, 6.67789862756433]\n",
            "52.285816130196764\n",
            "54.327326069771146\n",
            "55.57414933343939\n",
            "[9.491025833534874, 8.886605181812351, 6.67789862756433]\n",
            "52.285816130196764\n",
            "54.327326069771146\n",
            "55.57414933343939\n",
            "[9.491025833534874, 8.886605181812351, 6.67789862756433]\n",
            "52.285816130196764\n",
            "54.327326069771146\n",
            "55.57414933343939\n",
            "[9.491025833534874, 8.886605181812351, 6.67789862756433]\n",
            "52.285816130196764\n",
            "54.327326069771146\n",
            "55.57414933343939\n",
            "[9.491025833534874, 8.886605181812351, 6.67789862756433]\n",
            "52.285816130196764\n",
            "54.327326069771146\n",
            "55.57414933343939\n",
            "[9.491025833534874, 8.886605181812351, 6.67789862756433]\n",
            "52.285816130196764\n",
            "54.327326069771146\n",
            "55.57414933343939\n",
            "[9.491025833534874, 8.886605181812351, 6.67789862756433]\n",
            "52.285816130196764\n",
            "54.327326069771146\n",
            "55.57414933343939\n",
            "[9.491025833534874, 8.886605181812351, 6.67789862756433]\n",
            "52.285816130196764\n",
            "54.327326069771146\n",
            "55.57414933343939\n",
            "[9.491025833534874, 8.886605181812351, 6.67789862756433]\n",
            "52.285816130196764\n",
            "54.327326069771146\n",
            "55.57414933343939\n",
            "[9.491025833534874, 8.886605181812351, 6.67789862756433]\n",
            "52.285816130196764\n",
            "54.327326069771146\n",
            "55.57414933343939\n",
            "[9.491025833534874, 8.886605181812351, 6.67789862756433]\n",
            "52.285816130196764\n",
            "54.327326069771146\n",
            "55.57414933343939\n",
            "[9.491025833534874, 8.886605181812351, 6.67789862756433]\n",
            "52.285816130196764\n",
            "54.327326069771146\n",
            "55.57414933343939\n",
            "[9.491025833534874, 8.886605181812351, 6.67789862756433]\n",
            "52.285816130196764\n",
            "54.327326069771146\n",
            "55.57414933343939\n",
            "[9.491025833534874, 8.886605181812351, 6.67789862756433]\n",
            "52.285816130196764\n",
            "54.327326069771146\n",
            "55.57414933343939\n",
            "[9.491025833534874, 8.886605181812351, 6.67789862756433]\n",
            "52.285816130196764\n",
            "54.327326069771146\n",
            "55.57414933343939\n",
            "[9.491025833534874, 8.886605181812351, 6.67789862756433]\n",
            "52.285816130196764\n",
            "54.327326069771146\n",
            "55.57414933343939\n",
            "[9.491025833534874, 8.886605181812351, 6.67789862756433]\n",
            "52.285816130196764\n",
            "54.327326069771146\n",
            "55.57414933343939\n",
            "[9.491025833534874, 8.886605181812351, 6.67789862756433]\n",
            "52.285816130196764\n",
            "54.327326069771146\n",
            "55.57414933343939\n",
            "[9.491025833534874, 8.886605181812351, 6.67789862756433]\n",
            "52.285816130196764\n",
            "54.327326069771146\n",
            "55.57414933343939\n",
            "[9.491025833534874, 8.886605181812351, 6.67789862756433]\n",
            "52.285816130196764\n",
            "54.327326069771146\n",
            "55.57414933343939\n",
            "[9.491025833534874, 8.886605181812351, 6.67789862756433]\n",
            "52.285816130196764\n",
            "54.327326069771146\n",
            "55.57414933343939\n",
            "[9.491025833534874, 8.886605181812351, 6.67789862756433]\n",
            "52.285816130196764\n",
            "54.327326069771146\n",
            "55.57414933343939\n",
            "[9.491025833534874, 8.886605181812351, 6.67789862756433]\n",
            "52.285816130196764\n",
            "54.327326069771146\n",
            "55.57414933343939\n",
            "[9.491025833534874, 8.886605181812351, 6.67789862756433]\n",
            "52.285816130196764\n",
            "54.327326069771146\n",
            "55.57414933343939\n",
            "[9.491025833534874, 8.886605181812351, 6.67789862756433]\n",
            "52.285816130196764\n",
            "54.327326069771146\n",
            "55.57414933343939\n",
            "[9.491025833534874, 8.886605181812351, 6.67789862756433]\n",
            "52.285816130196764\n",
            "54.327326069771146\n",
            "55.57414933343939\n",
            "[9.491025833534874, 8.886605181812351, 6.67789862756433]\n",
            "52.285816130196764\n",
            "54.327326069771146\n",
            "55.57414933343939\n",
            "[9.491025833534874, 8.886605181812351, 6.67789862756433]\n",
            "52.285816130196764\n",
            "54.327326069771146\n",
            "55.57414933343939\n",
            "[9.491025833534874, 8.886605181812351, 6.67789862756433]\n",
            "52.285816130196764\n",
            "54.327326069771146\n",
            "55.57414933343939\n",
            "[9.491025833534874, 8.886605181812351, 6.67789862756433]\n",
            "52.285816130196764\n",
            "54.327326069771146\n",
            "55.57414933343939\n",
            "[9.491025833534874, 8.886605181812351, 6.67789862756433]\n",
            "52.285816130196764\n",
            "54.327326069771146\n",
            "55.57414933343939\n",
            "[9.491025833534874, 8.886605181812351, 6.67789862756433]\n",
            "52.285816130196764\n",
            "54.327326069771146\n",
            "55.57414933343939\n"
          ]
        }
      ]
    },
    {
      "cell_type": "markdown",
      "source": [
        "#OUTPUT"
      ],
      "metadata": {
        "id": "KvghWn4DBjuy"
      }
    },
    {
      "cell_type": "code",
      "source": [
        "x = range(epochs)\n",
        "print(x)\n",
        "import matplotlib.pyplot as plt\n",
        "\n",
        "plt.plot(x, MaxFitness, label = 'Max')\n",
        "plt.legend()"
      ],
      "metadata": {
        "colab": {
          "base_uri": "https://localhost:8080/",
          "height": 300
        },
        "id": "OGu3SXsDBiov",
        "outputId": "b83d790c-4239-4d4e-8e35-907b51f813ec"
      },
      "execution_count": 81,
      "outputs": [
        {
          "output_type": "stream",
          "name": "stdout",
          "text": [
            "range(0, 50)\n"
          ]
        },
        {
          "output_type": "execute_result",
          "data": {
            "text/plain": [
              "<matplotlib.legend.Legend at 0x7ff8f230a790>"
            ]
          },
          "metadata": {},
          "execution_count": 81
        },
        {
          "output_type": "display_data",
          "data": {
            "text/plain": [
              "<Figure size 432x288 with 1 Axes>"
            ],
            "image/png": "[encoded data removed]"
          },
          "metadata": {
            "needs_background": "light"
          }
        }
      ]
    }
  ]
}